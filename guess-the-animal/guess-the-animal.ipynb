{
 "cells": [
  {
   "cell_type": "markdown",
   "metadata": {},
   "source": [
    "# 🐝  🦀  🦙  🦔  🦋  Guess the Animal   🦝  🦧  🐩  🐥  🦉  🐳 "
   ]
  },
  {
   "cell_type": "markdown",
   "metadata": {},
   "source": [
    "<h1><center>🐝  🦀  🦙  🦔  🦋  Guess the Animal   🦝  🦧  🐩  🐥  🦉  🐳</center></h1>"
   ]
  },
  {
   "cell_type": "markdown",
   "metadata": {},
   "source": [
    "# <center>🐝  🦀  🦙  🦔  🦋  Guess the Animal   🦝  🦧  🐩  🐥  🦉  🐳</center>\n",
    "***"
   ]
  },
  {
   "cell_type": "markdown",
   "metadata": {},
   "source": [
    "## RULES:\n",
    "- You have <font color=\"red\">**3 guesses**</font> per animal\n",
    "- You get asked <font color=\"red\">**3 questions**</font> for extra information to guess the animal\n",
    "- You can have a <font color=\"red\">**final hint**</font> after the questions\n",
    "- The quicker you guess it right, the more points you get"
   ]
  },
  {
   "cell_type": "markdown",
   "metadata": {},
   "source": [
    "### Step 1: create a dictionary with the animals and the answers for the questions."
   ]
  },
  {
   "cell_type": "code",
   "execution_count": 1,
   "metadata": {},
   "outputs": [
    {
     "data": {
      "text/plain": [
       "30"
      ]
     },
     "execution_count": 1,
     "metadata": {},
     "output_type": "execute_result"
    }
   ],
   "source": [
    "#Animal dictionary follows the structure key=name_animal:value=ls(inv/vert,phylum,habitat,characteristic)\n",
    "Animals={\n",
    "    \"jellyfish\":[\"invertebrate\",\"cnidarian\",\"marine\",\"it stings\"],\n",
    "    \"coral\":[\"invertebrate\",\"cnidarian\",\"marine\",\"found in the Great barrier reef\"],\n",
    "    \"sponge\":[\"invertebrate\",\"porifera\",\"marine\",\"who lives in a pineapple under the sea?\"],\n",
    "    \"earthworm\":[\"invertebrate\",\"anellida\",\"terrestrial\",\"long and slimy\"],\n",
    "    \"octopus\":[\"invertebrate\",\"molusca\",\"marine\",\"has many many arms\"],\n",
    "    \"nautilus\":[\"invertebrate\",\"molusca\",\"marine\",\"lives 800m below sea level\"],\n",
    "    \"snail\":[\"invertebrate\",\"molusca\",\"terrestrial\",\"it drools\"],\n",
    "    \"ladybug\":[\"invertebrate\",\"arthropoda\",\"terrestrial\",\"red and black\"],\n",
    "    \"dragonfly\":[\"invertebrate\",\"arthropoda\",\"terrestrial\",\"with a long tail\"],\n",
    "    \"grasshopper\":[\"invertebrate\",\"arthropoda\",\"terrestrial\",\"loves to jump\"],\n",
    "    \"silkworm\":[\"invertebrate\",\"arthropoda\",\"terrestrial\",\"very valued in China\"],\n",
    "    \"urchin\":[\"invertebrate\",\"echinodermata\",\"marine\",\"with spikes\"],\n",
    "    \"starfish\":[\"invertebrate\",\"echinodermata\",\"marine\",\"tend to have 5 arms\"],\n",
    "    \"butterfly\":[\"invertebrate\",\"arthropoda\",\"terrestrial\",\"insect that flies\"],\n",
    "    \"nudibranch\":[\"invertebrate\",\"echinodermata\",\"marine\",\"a type of seaslug\"],\n",
    "    \"platypus\": [\"vertebrate\",\"mammal\",\"terrestrial\",\"lays eggs\"],\n",
    "    \"chimpanzee\":[\"vertebrate\",\"mammal\",\"terrestrial\",\"similar to humans\"],\n",
    "    \"salamander\":[\"vertebrate\",\"amphibian\",\"terrestrial\",\"looks like a lizard but it's not a reptile\"],\n",
    "    \"anteater\":[\"vertebrate\",\"mammal\",\"terrestrial\",\"long nose to eat insects\"],\n",
    "    \"sloth\":[\"vertebrate\",\"mammal\",\"terrestrial\",\"life is hard so it takes it slow\"],\n",
    "    \"tortoise\":[\"vertebrate\",\"reptile\",\"terrestrial\",\"it has its house on its back\"],\n",
    "    \"crocodile\":[\"vertebrate\",\"reptile\",\"aquatic\",\"has lots of teeth\"],\n",
    "    \"lizard\":[\"vertebrate\",\"reptile\",\"terrestrial\",\"can lose its tail(but it cannot regrown it forever)\"],\n",
    "    \"shark\":[\"vertebrate\",\"fish\",\"terrestrial\",\"might kill you and eat you but probably not\"],\n",
    "    \"goldfish\":[\"vertebrate\",\"fish\",\"terrestrial\",\"an orange pet\"],\n",
    "    \"pufferfish\":[\"vertebrate\",\"fish\",\"terrestrial\",\"3,2,1 and it is a baloon\"],\n",
    "    \"seagull\":[\"vertebrate\",\"bird\",\"terrestrial\",\"like to eat fish\"],\n",
    "    \"toad\":[\"vertebrate\",\"amphibian\",\"terrestrial\",\"kiss it and you might get a prince\"],\n",
    "    \"penguin\":[\"vertebrate\",\"bird\",\"terrestrial\",\"it cannot fly but swims wonderfully\"],\n",
    "    \"hummingbird\":[\"vertebrate\",\"bird\",\"terrestrial\",\"can fly in any direction, even backwards\"]\n",
    "}\n",
    "\n",
    "\n",
    "len(Animals)\n"
   ]
  },
  {
   "cell_type": "markdown",
   "metadata": {},
   "source": [
    "### Step 2: get the scrambled name of an animal"
   ]
  },
  {
   "cell_type": "code",
   "execution_count": 10,
   "metadata": {},
   "outputs": [
    {
     "name": "stdout",
     "output_type": "stream",
     "text": [
      "\n",
      " smwikrol \n",
      "\n",
      "Can you guess the animal?(yes or no): no\n",
      "\n",
      "Let's start the question round then!\n"
     ]
    }
   ],
   "source": [
    "#get a random animal, scramble its letters and store the info of the animal for later use\n",
    "import random\n",
    "name=random.choice(animal_names) #gets a random animal name\n",
    "rand_name=\"\".join(random.sample(name,len(name))) # scrambles the name of the animal chosen\n",
    "answer=Animals.get(name) # stores the answers of that animal in a list\n",
    "\n",
    "#game(part 1): scrambled name display and first guess\n",
    "\n",
    "print(\"\\n\",rand_name,\"\\n\")\n",
    "guesses=0\n",
    "init_guess=input(\"Can you guess the animal?(yes or no): \").lower()\n",
    "while init_guess!= \"yes\" and init_guess!= \"no\":\n",
    "    init_guess=input(\"Can you guess the animal?(yes or no): \").lower()\n",
    "else:\n",
    "    if init_guess==\"yes\":\n",
    "        guess1=input(\"\\nIntroduce the name of the animal: \").lower()\n",
    "        if guess1==name:\n",
    "            print(\"\\nBrilliant! You got it right! That is what I call a Jack of all trades\")\n",
    "        else:\n",
    "            print(\"\\nNot quite the answer we were looking for...Let's better start the question round!\")\n",
    "            guesses+=1\n",
    "    elif init_guess==\"no\":\n",
    "        print(\"\\nLet's start the question round then!\") \n"
   ]
  },
  {
   "cell_type": "markdown",
   "metadata": {},
   "source": [
    "### Step 3: questions and intro"
   ]
  },
  {
   "cell_type": "markdown",
   "metadata": {},
   "source": [
    "- **Question 1**: Vertebrate or Invertebrate? answer \"V\" or \"I\" (True or False)<br>\n",
    "- **Question 2**: <br>\n",
    "    - A) if **Vertebrate**: Fish,Amphibian,Reptile,Bird or Mammal? answer \"F\",\"A\",\"R\",\"B\" or \"M\" (True or False)<br>\n",
    "    - B) if **Invertebrate**: Which phylum it belongs to? Cnidarian, Porifera, Anellida, Arhtropoda,<br> Echinodermata or Molusca? \"C\",\"P\",\"A\",\"Ar\",\"E\" Or \"M\" (True or False)\n",
    "- **Question 3**: Is it Terrestrial, Marine or Aquatic? \"T\",\"M\" or \"A\" (True or False)<br>\n",
    "- **Hint**:it will be displayed, the user doesn't have to input anything<br>"
   ]
  },
  {
   "cell_type": "markdown",
   "metadata": {},
   "source": [
    "### Step 4: extra hint"
   ]
  },
  {
   "cell_type": "code",
   "execution_count": null,
   "metadata": {},
   "outputs": [],
   "source": []
  },
  {
   "cell_type": "markdown",
   "metadata": {},
   "source": [
    "### Step 5: game result"
   ]
  },
  {
   "cell_type": "code",
   "execution_count": null,
   "metadata": {},
   "outputs": [],
   "source": []
  },
  {
   "cell_type": "markdown",
   "metadata": {},
   "source": [
    "### Step 6: points"
   ]
  },
  {
   "cell_type": "code",
   "execution_count": null,
   "metadata": {},
   "outputs": [],
   "source": []
  }
 ],
 "metadata": {
  "kernelspec": {
   "display_name": "Python 3",
   "language": "python",
   "name": "python3"
  },
  "language_info": {
   "codemirror_mode": {
    "name": "ipython",
    "version": 3
   },
   "file_extension": ".py",
   "mimetype": "text/x-python",
   "name": "python",
   "nbconvert_exporter": "python",
   "pygments_lexer": "ipython3",
   "version": "3.8.3"
  }
 },
 "nbformat": 4,
 "nbformat_minor": 4
}
